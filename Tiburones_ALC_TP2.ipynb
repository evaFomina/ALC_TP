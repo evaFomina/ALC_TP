{
 "cells": [
  {
   "cell_type": "markdown",
   "id": "fSsuUdO1fOuX",
   "metadata": {
    "id": "fSsuUdO1fOuX"
   },
   "source": [
    "# ACA ESTA FUNCIONES.PY\n"
   ]
  },
  {
   "cell_type": "code",
   "execution_count": 1,
   "id": "yGyaSYhAfVv3",
   "metadata": {
    "id": "yGyaSYhAfVv3"
   },
   "outputs": [],
   "source": [
    "\"\"\"\n",
    "\n",
    "Trabajo Práctico 1 - Implementacion de funciones\n",
    "\n",
    "Álgebra Lineal Computacional - 2do cuatrimestre 2024\n",
    "\n",
    "Grupo: TIBURONES\n",
    "\n",
    "Integrantes:\n",
    "- Victoria Pérez Olivera\n",
    "- Ignacio Gallego\n",
    "- Evangelina Fomina\n",
    "\n",
    "\"\"\"\n",
    "\n",
    "\n",
    "#CONTENIDO TP1\n",
    "\n",
    "import numpy\n",
    "\n",
    "def calcularLU(A):\n",
    "    \"\"\"\n",
    "    Calcula la descomposición LU de una matriz cuadrada A.\n",
    "\n",
    "    Parámetros:\n",
    "    A : numpy.ndarray\n",
    "        Matriz cuadrada que se desea descomponer.\n",
    "\n",
    "    Retorna:\n",
    "    L : numpy.ndarray\n",
    "        Matriz triangular inferior.\n",
    "    U : numpy.ndarray\n",
    "        Matriz triangular superior.\n",
    "    P : numpy.ndarray\n",
    "        Matriz de permutación utilizada en el proceso de descomposición.\n",
    "    \"\"\"\n",
    "    m = A.shape[0]  # Número de filas de A\n",
    "    n = A.shape[1]  # Número de columnas de A\n",
    "\n",
    "    U = A.copy()  # Copia de A para realizar la descomposición\n",
    "    U = U.astype(float)  # Asegura que U sea de tipo float\n",
    "\n",
    "    if m != n:\n",
    "        print('Matriz no cuadrada')  # Verifica que la matriz sea cuadrada\n",
    "        return\n",
    "\n",
    "    P = numpy.eye(n)  # Matriz de permutación inicial (identidad)\n",
    "    L = numpy.eye(n)  # Matriz triangular inferior inicial (identidad)\n",
    "    L = L.astype(float)  # Asegura que L sea de tipo float\n",
    "\n",
    "    for i in range(n):\n",
    "        Pj = numpy.eye(n)  # Matriz de permutación para la columna actual\n",
    "\n",
    "        # Si el pivote es cero, se busca una fila para intercambiar\n",
    "        if U[i, i] == 0:\n",
    "            for j in range(i + 1, n):\n",
    "                if U[j, i] != 0:  # Se encuentra un pivote no cero\n",
    "                    Pj[i, :] += Pj[j, :]  # Intercambio de filas\n",
    "                    Pj[j, :] = Pj[i, :] - Pj[j, :]\n",
    "                    Pj[i, :] -= Pj[j, :]\n",
    "                    P = Pj @ P  # Actualiza la matriz de permutación\n",
    "                    break\n",
    "                elif j == n - 1:\n",
    "                    print('Todos los coeficientes de esta columna son 0')\n",
    "                    break\n",
    "\n",
    "        U = Pj @ U  # Aplica la permutación a U\n",
    "        L = Pj @ L @ Pj  # Actualiza L con la permutación\n",
    "\n",
    "        # Eliminación hacia adelante\n",
    "        for j in range(i + 1, n):\n",
    "            factor = U[j, i] / U[i, i]  # Calcula el factor de eliminación\n",
    "            L[j, i] = factor  # Almacena el factor en L\n",
    "            U[j, i:] = U[j, i:] - factor * U[i, i:]  # Actualiza U\n",
    "\n",
    "    return L, U, P  # Retorna las matrices L, U y P\n",
    "\n",
    "def inversaLU(L, U, P):\n",
    "    \"\"\"\n",
    "    Calcula la inversa de una matriz utilizando la descomposición LU.\n",
    "\n",
    "    Parámetros:\n",
    "    L : numpy.ndarray\n",
    "        Matriz triangular inferior.\n",
    "    U : numpy.ndarray\n",
    "        Matriz triangular superior.\n",
    "    P : numpy.ndarray\n",
    "        Matriz de permutación utilizada en el proceso de descomposición.\n",
    "\n",
    "    Retorna:\n",
    "    numpy.ndarray\n",
    "        Matriz inversa de la matriz original.\n",
    "    \"\"\"\n",
    "    return invertir(U) @ invertir(L) @ P  # Retorna la inversa calculada\n",
    "\n",
    "def leontiefizar(A):\n",
    "    \"\"\"\n",
    "    Calcula la matriz Leontief a partir de la matriz insumo-producto A.\n",
    "\n",
    "    Parámetros:\n",
    "    A : numpy.ndarray\n",
    "        Matriz insumo-producto que se desea transformar.\n",
    "\n",
    "    Retorna:\n",
    "    numpy.ndarray\n",
    "        Matriz Leontief resultante.\n",
    "    \"\"\"\n",
    "    n = A.shape[0]  # Número de sectores (filas de A)\n",
    "    I_A = numpy.eye(n) - A  # Matriz identidad menos A\n",
    "    Low, Up, P = calcularLU(I_A)  # Descomposición LU de I - A\n",
    "    return inversaLU(Low, Up, P)  # Retorna la inversa de la matriz resultante\n",
    "\n",
    "'''\n",
    "FUNCIONES AUXILIARES\n",
    "'''\n",
    "\n",
    "def invertir(M):\n",
    "    \"\"\"\n",
    "    Calcula la inversa de una matriz M utilizando eliminación de Gauss.\n",
    "\n",
    "    Parámetros:\n",
    "    M : numpy.ndarray\n",
    "        Matriz que se desea invertir.\n",
    "\n",
    "    Retorna:\n",
    "    numpy.ndarray\n",
    "        Matriz inversa de M.\n",
    "    \"\"\"\n",
    "    A = numpy.copy(M)  # Copia de la matriz original\n",
    "    A = A.astype(float)  # Asegura que A sea de tipo float\n",
    "\n",
    "    A_aug = numpy.hstack((A, numpy.eye(A.shape[0])))  # Matriz aumentada\n",
    "    A_inv = sustHaciaAtras(triangularizarU(A_aug))  # Aplicar sustitución hacia atrás en U\n",
    "\n",
    "    return A_inv  # Retorna la matriz inversa\n",
    "\n",
    "def sustHaciaAtras(A_aug):\n",
    "    \"\"\"\n",
    "    Realiza la sustitución hacia atrás sobre una matriz aumentada.\n",
    "\n",
    "    Parámetros:\n",
    "    A_aug : numpy.ndarray\n",
    "        Matriz aumentada que se desea resolver.\n",
    "\n",
    "    Retorna:\n",
    "    numpy.ndarray\n",
    "        Parte de la matriz que contiene la solución.\n",
    "    \"\"\"\n",
    "    n = A_aug.shape[0]  # Número de filas\n",
    "\n",
    "    for i in range(n - 1, -1, -1):\n",
    "        A_aug[i] = A_aug[i] / A_aug[i, i]  # Normaliza la fila actual\n",
    "\n",
    "        for j in range(i):\n",
    "            A_aug[j] -= A_aug[i] * A_aug[j, i]  # Elimina la variable de la fila j\n",
    "\n",
    "    return A_aug[:, n:]  # Retorna solo la parte de solución\n",
    "\n",
    "def triangularizarU(M):\n",
    "    \"\"\"\n",
    "    Transforma una matriz M en forma triangular superior.\n",
    "\n",
    "    Parámetros:\n",
    "    M : numpy.ndarray\n",
    "        Matriz que se desea triangularizar.\n",
    "\n",
    "    Retorna:\n",
    "    numpy.ndarray\n",
    "        Matriz triangular superior resultante.\n",
    "    \"\"\"\n",
    "    A = numpy.copy(M)  # Copia de la matriz original\n",
    "    A = A.astype(float)  # Asegura que A sea de tipo float\n",
    "\n",
    "    f, c = A.shape  # Obtiene el número de filas y columnas\n",
    "    if f == 0 or c == 0:\n",
    "        return A  # Retorna la matriz vacía si no hay filas o columnas\n",
    "\n",
    "    i = 0\n",
    "\n",
    "    # Encuentra la primera fila no cero\n",
    "    while i < f and A[i, 0] == 0:\n",
    "        i += 1\n",
    "\n",
    "    if i == f:\n",
    "        B = triangularizarU(A[:, 1:])  # Recursión si no se encuentra fila no cero\n",
    "        return numpy.block([A[:, :1], B])  # Retorna matriz con columna inicial\n",
    "\n",
    "    if i > 0:\n",
    "        A[[0, i], :] = A[[i, 0], :]  # Intercambia filas si es necesario\n",
    "\n",
    "    # Realiza eliminación hacia adelante\n",
    "    A[1:, :] -= (A[0, :] / A[0, 0]) * A[1:, 0:1]\n",
    "\n",
    "    B = triangularizarU(A[1:, 1:])  # Llama recursivamente para triangularizar el resto\n",
    "\n",
    "    return numpy.block([[A[:1, :]], [A[1:, :1], B]])  # Retorna la matriz triangular superior\n",
    "\n",
    "\n",
    "#CONTENIDO TP2\n",
    "\n",
    "\n",
    "def metodoPotencia(A, v, k):\n",
    "    v = v / np.linalg.norm(v, 2)\n",
    "\n",
    "    for i in range(k):\n",
    "        Av = A @ v\n",
    "        v = Av / np.linalg.norm(Av, 2)\n",
    "        l = v.T@A@v\n",
    "    return (l)\n",
    "\n",
    "\n",
    "\n",
    "def metodoMonteCarlo(A,k):\n",
    "    avals = np.zeros(k)\n",
    "\n",
    "    for i in range(k):\n",
    "        v = np.random.rand(A.shape[0])\n",
    "        l=metodoPotencia(A, v, k)\n",
    "        avals[i]=l\n",
    "    return avals.mean().round(4), avals.std().round(4)\n",
    "\n",
    "\n",
    "\n",
    "\n",
    "\n",
    "\n",
    "\n",
    "\n",
    "\n",
    "\n",
    "\n",
    "def metodoPotenciaVectores(A, v, k):\n",
    "    vectores = []\n",
    "    for i in range(k):\n",
    "        Av = A @ v\n",
    "        v = Av / np.linalg.norm(Av, 2)\n",
    "        vectores.append(v)\n",
    "    return (v, vectores)\n",
    "\n",
    "\n"
   ]
  },
  {
   "cell_type": "code",
   "execution_count": 2,
   "id": "01d11aa9",
   "metadata": {
    "id": "01d11aa9"
   },
   "outputs": [],
   "source": [
    "import numpy as np\n",
    "import pandas as pd\n",
    "from scipy.linalg import norm\n",
    "import matplotlib.pyplot as plt"
   ]
  },
  {
   "cell_type": "markdown",
   "id": "d19AnzrsfPor",
   "metadata": {
    "id": "d19AnzrsfPor"
   },
   "source": [
    "# ACA EMPIEZA LA RESO DEL TP"
   ]
  },
  {
   "cell_type": "markdown",
   "id": "-vVythf9S0w8",
   "metadata": {
    "id": "-vVythf9S0w8"
   },
   "source": [
    "### Consigna 1"
   ]
  },
  {
   "cell_type": "markdown",
   "id": "K85o65kITzlo",
   "metadata": {
    "id": "K85o65kITzlo"
   },
   "source": [
    "![imagen.png](data:image/png;base64,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)"
   ]
  },
  {
   "cell_type": "markdown",
   "id": "4489d8a9-aeb0-4332-affc-7b9c2eb60afc",
   "metadata": {
    "id": "uIM5d22dS5-n"
   },
   "source": [
    "Idea: Si todos los modulos de los autovalores valen menor que 1 entonces la matriz va a tender a 0 elevándola a n+1"
   ]
  },
  {
   "cell_type": "markdown",
   "id": "MAFf6hc-S5y4",
   "metadata": {
    "id": "MAFf6hc-S5y4"
   },
   "source": []
  },
  {
   "cell_type": "markdown",
   "id": "_YXzoYX7S7Sp",
   "metadata": {
    "id": "_YXzoYX7S7Sp"
   },
   "source": [
    "### Consigna 2 <font color=\"green\">YA ESTÁ</font>"
   ]
  },
  {
   "cell_type": "markdown",
   "id": "b5e8beb2-8216-4c46-90c6-d1f55080e327",
   "metadata": {
    "id": "b5e8beb2-8216-4c46-90c6-d1f55080e327"
   },
   "source": [
    "Calculo las normas de A1 y A2 elevados de 1 a 250"
   ]
  },
  {
   "cell_type": "code",
   "execution_count": 3,
   "id": "973f818c",
   "metadata": {
    "id": "973f818c"
   },
   "outputs": [],
   "source": [
    "#Defino la matriz A1\n",
    "A1 = np.array([\n",
    "    [0.186, 0.521, 0.014, 0.32, 0.134],\n",
    "    [0.24, 0.073, 0.219, 0.013, 0.327],\n",
    "    [0.098, 0.12, 0.311, 0.302, 0.208],\n",
    "    [0.173, 0.03, 0.133, 0.14, 0.074],\n",
    "    [0.303, 0.256, 0.323, 0.225, 0.257]\n",
    "])\n",
    "\n",
    "#Defino la matriz A2\n",
    "\n",
    "A2 = np.array([\n",
    "    [0.186, 0.521, 0.014, 0.32, 0.134],\n",
    "    [0.24, 0.073, 0.219, 0.013, 0.327],\n",
    "    [0.098, 0.12, 0.311, 0.302, 0.208],\n",
    "    [0.173, 0.03, 0.133, 0.14, 0.074],\n",
    "    [0.003, 0.256, 0.323, 0.225, 0.257]\n",
    "])\n"
   ]
  },
  {
   "cell_type": "code",
   "execution_count": 4,
   "id": "216834b1",
   "metadata": {
    "id": "216834b1"
   },
   "outputs": [],
   "source": [
    "I = np.eye(5)\n",
    "#Defino las listas de normas\n",
    "a1 = []\n",
    "a2 = []\n",
    "Ak1 = I\n",
    "Ak2 = I\n",
    "for i in range(250):\n",
    "    Ak1 = A1 @ Ak1\n",
    "    a1.append(norm(Ak1, 2))\n",
    "\n",
    "    Ak2 = A2 @ Ak2\n",
    "    a2.append(norm(Ak2, 2))\n",
    "\n"
   ]
  },
  {
   "cell_type": "code",
   "execution_count": 18,
   "id": "7e904f06",
   "metadata": {},
   "outputs": [
    {
     "data": {
      "text/plain": [
       "[<matplotlib.lines.Line2D at 0x1f5350fbd90>]"
      ]
     },
     "execution_count": 18,
     "metadata": {},
     "output_type": "execute_result"
    },
    {
     "data": {
      "image/png": "[encoded data removed]",
      "text/plain": [
       "<Figure size 640x480 with 1 Axes>"
      ]
     },
     "metadata": {},
     "output_type": "display_data"
    }
   ],
   "source": [
    "plt.plot(a1,\"*\")"
   ]
  },
  {
   "cell_type": "code",
   "execution_count": 19,
   "id": "ef3a9c6c",
   "metadata": {
    "colab": {
     "base_uri": "https://localhost:8080/",
     "height": 447
    },
    "id": "ef3a9c6c",
    "outputId": "790b40d4-63e7-4a3a-f251-74c4649c1ddd"
   },
   "outputs": [
    {
     "data": {
      "text/plain": [
       "[<matplotlib.lines.Line2D at 0x1f5352aad50>]"
      ]
     },
     "execution_count": 19,
     "metadata": {},
     "output_type": "execute_result"
    },
    {
     "data": {
      "image/png": "[encoded data removed]",
      "text/plain": [
       "<Figure size 640x480 with 1 Axes>"
      ]
     },
     "metadata": {},
     "output_type": "display_data"
    }
   ],
   "source": [
    "plt.plot(a2,\"*\")"
   ]
  },
  {
   "cell_type": "markdown",
   "id": "rMBhOaxwU1ld",
   "metadata": {
    "id": "rMBhOaxwU1ld"
   },
   "source": [
    "### Consigna 3 <font color=\"green\">YA ESTÁ</font>\n"
   ]
  },
  {
   "cell_type": "markdown",
   "id": "e2cfaa2b-72d3-47d5-8586-a626432fc3a7",
   "metadata": {
    "id": "e2cfaa2b-72d3-47d5-8586-a626432fc3a7"
   },
   "source": [
    "\n",
    "Busco mayores autovalores de las matrices A1 y A2 usando el metodo de la potencia"
   ]
  },
  {
   "cell_type": "code",
   "execution_count": 8,
   "id": "f51e6a13-62e5-418f-a674-0b03b9631105",
   "metadata": {
    "id": "f51e6a13-62e5-418f-a674-0b03b9631105"
   },
   "outputs": [],
   "source": [
    "# Número de iteraciones\n",
    "k = 250\n",
    "\n",
    "# Para la matriz A1\n",
    "avalA1prom, avalA1desv = metodoMonteCarlo(A1,k)\n",
    "\n",
    "# Para la matriz A2\n",
    "avalA2prom, avalA2desv = metodoMonteCarlo(A2,k)\n",
    "\n"
   ]
  },
  {
   "cell_type": "markdown",
   "id": "752f4817-a739-4c7d-8120-d4034ba766f6",
   "metadata": {
    "id": "752f4817-a739-4c7d-8120-d4034ba766f6"
   },
   "source": [
    "Hago una tabla de comparacion de promedio y desvio estandar de vectores de las matrices A1 y A2"
   ]
  },
  {
   "cell_type": "code",
   "execution_count": 9,
   "id": "54b9529f-4456-4b70-b82d-76917e0ad27f",
   "metadata": {
    "colab": {
     "base_uri": "https://localhost:8080/",
     "height": 149
    },
    "id": "54b9529f-4456-4b70-b82d-76917e0ad27f",
    "outputId": "b06c4637-0cd4-4daf-e25f-ff575cd5fcfe"
   },
   "outputs": [
    {
     "data": {
      "text/html": [
       "<div>\n",
       "<style scoped>\n",
       "    .dataframe tbody tr th:only-of-type {\n",
       "        vertical-align: middle;\n",
       "    }\n",
       "\n",
       "    .dataframe tbody tr th {\n",
       "        vertical-align: top;\n",
       "    }\n",
       "\n",
       "    .dataframe thead th {\n",
       "        text-align: right;\n",
       "    }\n",
       "</style>\n",
       "<table border=\"1\" class=\"dataframe\">\n",
       "  <thead>\n",
       "    <tr style=\"text-align: right;\">\n",
       "      <th></th>\n",
       "      <th>Promedio</th>\n",
       "      <th>Desvio estandar</th>\n",
       "    </tr>\n",
       "  </thead>\n",
       "  <tbody>\n",
       "    <tr>\n",
       "      <th>A1</th>\n",
       "      <td>1.0000</td>\n",
       "      <td>0.0</td>\n",
       "    </tr>\n",
       "    <tr>\n",
       "      <th>A2</th>\n",
       "      <td>0.9277</td>\n",
       "      <td>0.0</td>\n",
       "    </tr>\n",
       "  </tbody>\n",
       "</table>\n",
       "</div>"
      ],
      "text/plain": [
       "    Promedio  Desvio estandar\n",
       "A1    1.0000              0.0\n",
       "A2    0.9277              0.0"
      ]
     },
     "execution_count": 9,
     "metadata": {},
     "output_type": "execute_result"
    }
   ],
   "source": [
    "t = {\"Promedio\" : [avalA1prom, avalA2prom], \"Desvio estandar\" : [avalA1desv, avalA2desv]}\n",
    "tabla = pd.DataFrame(data = t, index = [\"A1\", \"A2\"])\n",
    "tabla"
   ]
  },
  {
   "cell_type": "markdown",
   "id": "xCcvfP0-Z2bZ",
   "metadata": {
    "id": "xCcvfP0-Z2bZ"
   },
   "source": [
    "### Consigna 4 <font color=\"red\">REVISAAAAAAAAAAAAAAAAAAAAAAARRRRRRRRRRRRRRRRRR</font>"
   ]
  },
  {
   "cell_type": "markdown",
   "id": "e2957ca7",
   "metadata": {},
   "source": [
    "**A**     Graficamos la serie de potencias de (I-A)<sup>-1</sup>= I + A + A<sup>2</sup> + ... + A<sup>n</sup> para A1 y A2, con n=10 y n=100"
   ]
  },
  {
   "cell_type": "code",
   "execution_count": null,
   "id": "1feeff03",
   "metadata": {},
   "outputs": [],
   "source": [
    "from numpy.linalg import matrix_power\n",
    "def seriePotencia(A, n):\n",
    "    normas = []\n",
    "    suma = np.eye(A.shape[0])\n",
    "    for i in range(1, n+1):\n",
    "        suma += matrix_power(A, i)\n",
    "        normas.append(norm(suma, 2))\n",
    "    return (suma, normas)"
   ]
  },
  {
   "cell_type": "code",
   "execution_count": null,
   "id": "615c3b62",
   "metadata": {},
   "outputs": [],
   "source": [
    "normas_A1_10 = seriePotencia(A1, 10)[1]\n",
    "normas_A1_100 = seriePotencia(A1, 100)[1]\n",
    "normas_A2_10 = seriePotencia(A2, 10)[1]\n",
    "normas_A2_100 = seriePotencia(A2, 100)[1]"
   ]
  },
  {
   "cell_type": "code",
   "execution_count": null,
   "id": "d49c301b",
   "metadata": {},
   "outputs": [],
   "source": [
    "plt.plot(normas_A1_10, \"*\")"
   ]
  },
  {
   "cell_type": "code",
   "execution_count": null,
   "id": "3eddf720",
   "metadata": {},
   "outputs": [],
   "source": [
    "plt.plot(normas_A1_100, \"*\")"
   ]
  },
  {
   "cell_type": "code",
   "execution_count": null,
   "id": "ff18455b",
   "metadata": {},
   "outputs": [],
   "source": [
    "plt.plot(normas_A2_10, \"*\")"
   ]
  },
  {
   "cell_type": "code",
   "execution_count": null,
   "id": "2f420c74",
   "metadata": {},
   "outputs": [],
   "source": [
    "plt.plot(normas_A2_100, \"*\")"
   ]
  },
  {
   "cell_type": "code",
   "execution_count": null,
   "id": "6fbe91db",
   "metadata": {},
   "outputs": [],
   "source": [
    "I = np.eye(5)\n",
    "\n",
    "#Defino las listas de normas\n",
    "\n",
    "a1 = []\n",
    "a2 = []\n",
    "\n",
    "Ak1 = I\n",
    "Ak2 = I\n",
    "\n",
    "for i in range(250):\n",
    "    Ak1 = A1 @ Ak1\n",
    "    a1.append(norm(Ak1, 2))\n",
    "\n",
    "    Ak2 = A2 @ Ak2\n",
    "    a2.append(norm(Ak2, 2))\n",
    "    "
   ]
  },
  {
   "cell_type": "markdown",
   "id": "tJu2bXw3Z5Qg",
   "metadata": {
    "id": "tJu2bXw3Z5Qg"
   },
   "source": [
    "**A**     Graficamos la serie de potencias de (I-A)<sup>-1</sup> para A1 y A2, con n=10 y n=100"
   ]
  },
  {
   "cell_type": "code",
   "execution_count": null,
   "id": "yu8A3sQcZ57n",
   "metadata": {
    "colab": {
     "base_uri": "https://localhost:8080/"
    },
    "id": "yu8A3sQcZ57n",
    "outputId": "9be760fa-09fa-4732-815e-09c4b9fe23e6"
   },
   "outputs": [
    {
     "name": "stdout",
     "output_type": "stream",
     "text": [
      "[np.float64(3.3794386135941236e+16), np.float64(1.1009598432709496e+33), np.float64(3.5867276050505913e+49), np.float64(1.1684908392854004e+66), np.float64(3.8067313491308205e+82), np.float64(1.240164071232049e+99), np.float64(4.040229747040118e+115), np.float64(1.3162336167867867e+132), np.float64(4.2880505377914166e+148), np.float64(1.3969691383161034e+165), np.float64(4.5510722324946705e+181)]\n"
     ]
    }
   ],
   "source": [
    "#Generamos las matrices\n",
    "\n",
    "leon1=invertir(np.eye(5)-A1)\n",
    "leon2=leontiefizar(A2)\n",
    "\n",
    "#hallo la serie de potencias\n",
    "\n",
    "leonk1=np.eye(5)\n",
    "leonk2=np.eye(5)\n",
    "l1=[]\n",
    "l2=[]\n",
    "\n",
    "\n",
    "for i in range(11):\n",
    "    leonk1 = leon1 @ leonk1\n",
    "    l1.append(norm(leonk1, 2))\n",
    "\n",
    "for i in range(101):\n",
    "\n",
    "    leonk2 = leon2 @ leonk2\n",
    "    l2.append(norm(leonk2, 2))\n",
    "\n",
    "print(l1)\n"
   ]
  },
  {
   "cell_type": "markdown",
   "id": "YJH8MU7JgKNp",
   "metadata": {
    "id": "YJH8MU7JgKNp"
   },
   "source": [
    "Graficamos para (I-A<sub>1</sub>)<sup>-1</sup>"
   ]
  },
  {
   "cell_type": "code",
   "execution_count": 34,
   "id": "x-Wtfrm9Z_6p",
   "metadata": {
    "colab": {
     "base_uri": "https://localhost:8080/",
     "height": 462
    },
    "id": "x-Wtfrm9Z_6p",
    "outputId": "f657794f-96b2-4718-d02f-2333aa113e60"
   },
   "outputs": [
    {
     "data": {
      "image/png": "[encoded data removed]",
      "text/plain": [
       "<Figure size 640x480 with 1 Axes>"
      ]
     },
     "metadata": {},
     "output_type": "display_data"
    }
   ],
   "source": [
    "plt.plot(l1[:10],\"*\")\n",
    "plt.yscale(\"log\")\n"
   ]
  },
  {
   "cell_type": "markdown",
   "id": "EWprn2ONhOpC",
   "metadata": {
    "id": "EWprn2ONhOpC"
   },
   "source": [
    "Graficamos para (I-A<sub>2</sub>)<sup>-1</sup>"
   ]
  },
  {
   "cell_type": "code",
   "execution_count": 37,
   "id": "POnqvtqWhOb3",
   "metadata": {
    "colab": {
     "base_uri": "https://localhost:8080/",
     "height": 462
    },
    "id": "POnqvtqWhOb3",
    "outputId": "66adf3e7-b75b-4702-9255-1da6885785ac"
   },
   "outputs": [
    {
     "data": {
      "image/png": "[encoded data removed]",
      "text/plain": [
       "<Figure size 640x480 with 1 Axes>"
      ]
     },
     "metadata": {},
     "output_type": "display_data"
    }
   ],
   "source": [
    "plt.plot(l2[:10],\"*\")\n",
    "plt.yscale(\"log\")"
   ]
  },
  {
   "cell_type": "code",
   "execution_count": 38,
   "id": "5f9beedd",
   "metadata": {},
   "outputs": [
    {
     "data": {
      "image/png": "[encoded data removed]",
      "text/plain": [
       "<Figure size 640x480 with 1 Axes>"
      ]
     },
     "metadata": {},
     "output_type": "display_data"
    }
   ],
   "source": [
    "plt.plot(l2[:100],\"*\")\n",
    "plt.yscale(\"log\")"
   ]
  },
  {
   "cell_type": "markdown",
   "id": "SpBhm5GIZ6oP",
   "metadata": {
    "id": "SpBhm5GIZ6oP"
   },
   "source": [
    "### Consigna 5"
   ]
  },
  {
   "cell_type": "markdown",
   "id": "GuIVK8EvZ6ax",
   "metadata": {
    "id": "GuIVK8EvZ6ax"
   },
   "source": []
  },
  {
   "cell_type": "code",
   "execution_count": 39,
   "id": "7Eg2lCH7Z-hx",
   "metadata": {
    "id": "7Eg2lCH7Z-hx",
    "scrolled": true
   },
   "outputs": [
    {
     "data": {
      "text/html": [
       "<div>\n",
       "<style scoped>\n",
       "    .dataframe tbody tr th:only-of-type {\n",
       "        vertical-align: middle;\n",
       "    }\n",
       "\n",
       "    .dataframe tbody tr th {\n",
       "        vertical-align: top;\n",
       "    }\n",
       "\n",
       "    .dataframe thead th {\n",
       "        text-align: right;\n",
       "    }\n",
       "</style>\n",
       "<table border=\"1\" class=\"dataframe\">\n",
       "  <thead>\n",
       "    <tr style=\"text-align: right;\">\n",
       "      <th></th>\n",
       "      <th>Country_iso3</th>\n",
       "      <th>Nosector</th>\n",
       "      <th>Sector</th>\n",
       "      <th>ARGs1</th>\n",
       "      <th>ARGs2</th>\n",
       "      <th>ARGs3</th>\n",
       "      <th>ARGs4</th>\n",
       "      <th>ARGs5</th>\n",
       "      <th>ARGs6</th>\n",
       "      <th>ARGs7</th>\n",
       "      <th>...</th>\n",
       "      <th>EXP_MDV</th>\n",
       "      <th>EXP_NPL</th>\n",
       "      <th>EXP_TUR</th>\n",
       "      <th>EXP_PAK</th>\n",
       "      <th>EXP_LKA</th>\n",
       "      <th>EXP_CUB</th>\n",
       "      <th>EXP_SUR</th>\n",
       "      <th>EXP_ROW</th>\n",
       "      <th>Adjustment</th>\n",
       "      <th>Output</th>\n",
       "    </tr>\n",
       "  </thead>\n",
       "  <tbody>\n",
       "    <tr>\n",
       "      <th>0</th>\n",
       "      <td>ARG</td>\n",
       "      <td>s01</td>\n",
       "      <td>Agriculture and forestry</td>\n",
       "      <td>9725.566485</td>\n",
       "      <td>18.369597</td>\n",
       "      <td>0.000000</td>\n",
       "      <td>0.000000</td>\n",
       "      <td>11890.682268</td>\n",
       "      <td>2331.532300</td>\n",
       "      <td>594.552280</td>\n",
       "      <td>...</td>\n",
       "      <td>0.000000</td>\n",
       "      <td>0.865281</td>\n",
       "      <td>132.020508</td>\n",
       "      <td>2.572569</td>\n",
       "      <td>0.0</td>\n",
       "      <td>30.970039</td>\n",
       "      <td>0.011896</td>\n",
       "      <td>2403.097412</td>\n",
       "      <td>-1695.114624</td>\n",
       "      <td>64585.080680</td>\n",
       "    </tr>\n",
       "    <tr>\n",
       "      <th>1</th>\n",
       "      <td>ARG</td>\n",
       "      <td>s02</td>\n",
       "      <td>Hunting and fishing</td>\n",
       "      <td>13.820241</td>\n",
       "      <td>0.062689</td>\n",
       "      <td>0.000000</td>\n",
       "      <td>0.000000</td>\n",
       "      <td>1.253285</td>\n",
       "      <td>2.774203</td>\n",
       "      <td>0.445318</td>\n",
       "      <td>...</td>\n",
       "      <td>0.000000</td>\n",
       "      <td>0.000000</td>\n",
       "      <td>0.161072</td>\n",
       "      <td>0.000000</td>\n",
       "      <td>0.0</td>\n",
       "      <td>0.000000</td>\n",
       "      <td>0.000000</td>\n",
       "      <td>0.815166</td>\n",
       "      <td>5.434752</td>\n",
       "      <td>1430.287291</td>\n",
       "    </tr>\n",
       "    <tr>\n",
       "      <th>2</th>\n",
       "      <td>ARG</td>\n",
       "      <td>s03</td>\n",
       "      <td>Mining and quarrying (energy)</td>\n",
       "      <td>6.095956</td>\n",
       "      <td>0.140437</td>\n",
       "      <td>2238.394196</td>\n",
       "      <td>47.503210</td>\n",
       "      <td>0.522333</td>\n",
       "      <td>0.618710</td>\n",
       "      <td>0.165520</td>\n",
       "      <td>...</td>\n",
       "      <td>0.000000</td>\n",
       "      <td>0.000000</td>\n",
       "      <td>0.000000</td>\n",
       "      <td>0.000000</td>\n",
       "      <td>0.0</td>\n",
       "      <td>0.000000</td>\n",
       "      <td>0.000000</td>\n",
       "      <td>0.000000</td>\n",
       "      <td>1847.147827</td>\n",
       "      <td>23964.065765</td>\n",
       "    </tr>\n",
       "    <tr>\n",
       "      <th>3</th>\n",
       "      <td>ARG</td>\n",
       "      <td>s04</td>\n",
       "      <td>Mining and quarrying (non-energy)</td>\n",
       "      <td>0.000000</td>\n",
       "      <td>0.687199</td>\n",
       "      <td>295.194361</td>\n",
       "      <td>470.706336</td>\n",
       "      <td>1.140358</td>\n",
       "      <td>13.123509</td>\n",
       "      <td>1.914597</td>\n",
       "      <td>...</td>\n",
       "      <td>0.000000</td>\n",
       "      <td>0.000000</td>\n",
       "      <td>0.000000</td>\n",
       "      <td>0.000000</td>\n",
       "      <td>0.0</td>\n",
       "      <td>0.019760</td>\n",
       "      <td>0.000000</td>\n",
       "      <td>0.432800</td>\n",
       "      <td>355.133514</td>\n",
       "      <td>7486.322979</td>\n",
       "    </tr>\n",
       "    <tr>\n",
       "      <th>4</th>\n",
       "      <td>ARG</td>\n",
       "      <td>s05</td>\n",
       "      <td>Meat and meat products; dairy products</td>\n",
       "      <td>23.017536</td>\n",
       "      <td>0.009325</td>\n",
       "      <td>0.505593</td>\n",
       "      <td>0.040398</td>\n",
       "      <td>356.730934</td>\n",
       "      <td>88.047795</td>\n",
       "      <td>15.017792</td>\n",
       "      <td>...</td>\n",
       "      <td>0.035902</td>\n",
       "      <td>0.000000</td>\n",
       "      <td>0.131605</td>\n",
       "      <td>0.547536</td>\n",
       "      <td>0.0</td>\n",
       "      <td>3.120524</td>\n",
       "      <td>0.039276</td>\n",
       "      <td>414.973785</td>\n",
       "      <td>-30.369465</td>\n",
       "      <td>17628.831707</td>\n",
       "    </tr>\n",
       "  </tbody>\n",
       "</table>\n",
       "<p>5 rows × 798 columns</p>\n",
       "</div>"
      ],
      "text/plain": [
       "  Country_iso3 Nosector                                  Sector        ARGs1  \\\n",
       "0          ARG      s01                Agriculture and forestry  9725.566485   \n",
       "1          ARG      s02                     Hunting and fishing    13.820241   \n",
       "2          ARG      s03           Mining and quarrying (energy)     6.095956   \n",
       "3          ARG      s04       Mining and quarrying (non-energy)     0.000000   \n",
       "4          ARG      s05  Meat and meat products; dairy products    23.017536   \n",
       "\n",
       "       ARGs2        ARGs3       ARGs4         ARGs5        ARGs6       ARGs7  \\\n",
       "0  18.369597     0.000000    0.000000  11890.682268  2331.532300  594.552280   \n",
       "1   0.062689     0.000000    0.000000      1.253285     2.774203    0.445318   \n",
       "2   0.140437  2238.394196   47.503210      0.522333     0.618710    0.165520   \n",
       "3   0.687199   295.194361  470.706336      1.140358    13.123509    1.914597   \n",
       "4   0.009325     0.505593    0.040398    356.730934    88.047795   15.017792   \n",
       "\n",
       "   ...   EXP_MDV   EXP_NPL     EXP_TUR   EXP_PAK  EXP_LKA    EXP_CUB  \\\n",
       "0  ...  0.000000  0.865281  132.020508  2.572569      0.0  30.970039   \n",
       "1  ...  0.000000  0.000000    0.161072  0.000000      0.0   0.000000   \n",
       "2  ...  0.000000  0.000000    0.000000  0.000000      0.0   0.000000   \n",
       "3  ...  0.000000  0.000000    0.000000  0.000000      0.0   0.019760   \n",
       "4  ...  0.035902  0.000000    0.131605  0.547536      0.0   3.120524   \n",
       "\n",
       "    EXP_SUR      EXP_ROW   Adjustment        Output  \n",
       "0  0.011896  2403.097412 -1695.114624  64585.080680  \n",
       "1  0.000000     0.815166     5.434752   1430.287291  \n",
       "2  0.000000     0.000000  1847.147827  23964.065765  \n",
       "3  0.000000     0.432800   355.133514   7486.322979  \n",
       "4  0.039276   414.973785   -30.369465  17628.831707  \n",
       "\n",
       "[5 rows x 798 columns]"
      ]
     },
     "execution_count": 39,
     "metadata": {},
     "output_type": "execute_result"
    }
   ],
   "source": [
    "data = pd.read_excel(\"matrizlatina2011_compressed_0.xlsx\",sheet_name = \"LAC_IOT_2011\")\n",
    "data.head()"
   ]
  },
  {
   "cell_type": "markdown",
   "id": "6edf2960-353c-49fe-af66-49079b68006b",
   "metadata": {},
   "source": [
    "Hacemos el mismo procedimiento que en el TP1 para seleccionar las matrices deseadas"
   ]
  },
  {
   "cell_type": "code",
   "execution_count": null,
   "id": "e38fa7b0-a4c2-4258-b484-e8f28aec3811",
   "metadata": {},
   "outputs": [],
   "source": [
    "import funciones as f"
   ]
  },
  {
   "cell_type": "code",
   "execution_count": null,
   "id": "yo6GiOtZZ7Oz",
   "metadata": {
    "id": "yo6GiOtZZ7Oz"
   },
   "outputs": [
    {
     "data": {
      "text/plain": [
       "((80, 80), (80, 1))"
      ]
     },
     "execution_count": 28,
     "metadata": {},
     "output_type": "execute_result"
    }
   ],
   "source": [
    "data_ = data.copy()\n",
    "data_ = data_.dropna(subset = [\"Country_iso3\"])\n",
    "data_ = data_.set_index([\"Country_iso3\", \"Nosector\"]) #renombramos el indice para que indique de qué pais y qué sector es cada fil\n",
    "data_ = data_.loc[[\"ARG\", \"HND\"]] #filtro de filas para paises que nos fueron asignadas\n",
    "output = data_[[\"Output\"]] #el vector P\n",
    "\n",
    "#Ahora nos quedamos solamente con la columnas que nos interesan...\n",
    "data_ = data_[[col for col in data.columns if (\"ARG\" in col or \"HND\" in col) and (\"CONS\" not in col) and (\"GFCF\" not in col)]]\n",
    "\n",
    "data_.shape,output.shape"
   ]
  },
  {
   "cell_type": "code",
   "execution_count": null,
   "id": "54d5478f-80f7-4422-9e16-4614b794f12b",
   "metadata": {},
   "outputs": [
    {
     "data": {
      "text/html": [
       "<div>\n",
       "<style scoped>\n",
       "    .dataframe tbody tr th:only-of-type {\n",
       "        vertical-align: middle;\n",
       "    }\n",
       "\n",
       "    .dataframe tbody tr th {\n",
       "        vertical-align: top;\n",
       "    }\n",
       "\n",
       "    .dataframe thead th {\n",
       "        text-align: right;\n",
       "    }\n",
       "</style>\n",
       "<table border=\"1\" class=\"dataframe\">\n",
       "  <thead>\n",
       "    <tr style=\"text-align: right;\">\n",
       "      <th></th>\n",
       "      <th></th>\n",
       "      <th>Output</th>\n",
       "    </tr>\n",
       "    <tr>\n",
       "      <th>Country_iso3</th>\n",
       "      <th>Nosector</th>\n",
       "      <th></th>\n",
       "    </tr>\n",
       "  </thead>\n",
       "  <tbody>\n",
       "  </tbody>\n",
       "</table>\n",
       "</div>"
      ],
      "text/plain": [
       "Empty DataFrame\n",
       "Columns: [Output]\n",
       "Index: []"
      ]
     },
     "execution_count": 29,
     "metadata": {},
     "output_type": "execute_result"
    }
   ],
   "source": [
    "output=output.replace(0,1)\n",
    "output.query('Output == 0')"
   ]
  },
  {
   "cell_type": "code",
   "execution_count": null,
   "id": "403b9640-9ee4-4e8d-b827-291c342ec013",
   "metadata": {},
   "outputs": [],
   "source": [
    "Z_AA=data_.to_numpy()[:40,:40]\n",
    "Z_AH=data_.to_numpy()[:40,40:]\n",
    "Z_HA=data_.to_numpy()[40:,:40]\n",
    "Z_HH=data_.to_numpy()[40:,40:]\n",
    "\n",
    "P_A=np.eye(40)*output.head(40).to_numpy()\n",
    "P_H=np.eye(40)*output.tail(40).to_numpy()"
   ]
  },
  {
   "cell_type": "code",
   "execution_count": null,
   "id": "8f66d3ea-fe71-473f-8be2-3ad8c248e0ae",
   "metadata": {},
   "outputs": [],
   "source": [
    "A_AA=Z_AA@f.invertir(P_A)\n",
    "A_AH=Z_AH@f.invertir(P_H)\n",
    "A_HA=Z_HA@f.invertir(P_A)\n",
    "A_HH=Z_HH@f.invertir(P_H)\n"
   ]
  },
  {
   "cell_type": "markdown",
   "id": "7460fa09-afc2-4514-a24a-ea051b781318",
   "metadata": {},
   "source": [
    "Tomo las matrices A_AA y A_HH como A_ss y A_rr "
   ]
  },
  {
   "cell_type": "code",
   "execution_count": null,
   "id": "2b532c6a-f504-4c71-9792-62f8cf023ac7",
   "metadata": {},
   "outputs": [
    {
     "name": "stdout",
     "output_type": "stream",
     "text": [
      "Autovalor de A_AA : 0.3919441702169346 Autovalor de A_HH : 0.5596953653484473\n"
     ]
    }
   ],
   "source": [
    "v = np.random.rand(A_AA.shape[0])\n",
    "aval_A_AA = metodoPotencia(A_AA, v, 250)\n",
    "aval_A_HH = metodoPotencia(A_HH, v, 250)\n",
    "print(\"Autovalor de A_AA : {}\".format(aval_A_AA), \"Autovalor de A_HH : {}\".format(aval_A_HH) )"
   ]
  },
  {
   "cell_type": "code",
   "execution_count": null,
   "id": "91f90e6f-1db2-4701-9202-2341dbd4654d",
   "metadata": {},
   "outputs": [
    {
     "data": {
      "text/plain": [
       "(0.39194417021693484+0j)"
      ]
     },
     "execution_count": 44,
     "metadata": {},
     "output_type": "execute_result"
    }
   ],
   "source": [
    "max(np.linalg.eig(A_AA)[0])"
   ]
  },
  {
   "cell_type": "code",
   "execution_count": null,
   "id": "10b9e40e-3a79-46b4-b7bc-744c3cda72ee",
   "metadata": {},
   "outputs": [
    {
     "data": {
      "text/plain": [
       "(-0.0378988356308313-0.03145985388710414j)"
      ]
     },
     "execution_count": 46,
     "metadata": {},
     "output_type": "execute_result"
    }
   ],
   "source": [
    "min(np.linalg.eig(A_AA)[0])"
   ]
  },
  {
   "cell_type": "code",
   "execution_count": null,
   "id": "5ffffef4-eb67-417f-baf9-6329b5dbbd0b",
   "metadata": {},
   "outputs": [
    {
     "data": {
      "text/plain": [
       "(0.5596953653484487+0j)"
      ]
     },
     "execution_count": 45,
     "metadata": {},
     "output_type": "execute_result"
    }
   ],
   "source": [
    "max(np.linalg.eig(A_HH)[0])"
   ]
  },
  {
   "cell_type": "code",
   "execution_count": null,
   "id": "f8697937-6614-4efe-b9d5-2411b87b41c9",
   "metadata": {},
   "outputs": [
    {
     "data": {
      "text/plain": [
       "(-0.06326146806709103+0j)"
      ]
     },
     "execution_count": 47,
     "metadata": {},
     "output_type": "execute_result"
    }
   ],
   "source": [
    "min(np.linalg.eig(A_HH)[0])"
   ]
  },
  {
   "cell_type": "markdown",
   "id": "291d6aec-7abf-4bab-b818-f9d56bee3fe6",
   "metadata": {},
   "source": [
    "Como el modulo de los maximos autovalores son menores que uno en ambos casos debería converger, también se revisó si los modulos de los autovalores menores valen menos que 1 para asegurarnos de que no haya ningun autovalor que haga que diverja la matriz"
   ]
  },
  {
   "cell_type": "markdown",
   "id": "-OlLJBA5auJJ",
   "metadata": {
    "id": "-OlLJBA5auJJ"
   },
   "source": [
    "# Análisis en componentes principales"
   ]
  },
  {
   "cell_type": "markdown",
   "id": "2ltyYuyoaA7g",
   "metadata": {
    "id": "2ltyYuyoaA7g"
   },
   "source": [
    "### Consigna 6"
   ]
  },
  {
   "cell_type": "code",
   "execution_count": 67,
   "id": "01e60170",
   "metadata": {},
   "outputs": [
    {
     "data": {
      "text/plain": [
       "array([[ 0.9, -0.1, -0.1, -0.1, -0.1, -0.1, -0.1, -0.1, -0.1, -0.1],\n",
       "       [-0.1,  0.9, -0.1, -0.1, -0.1, -0.1, -0.1, -0.1, -0.1, -0.1],\n",
       "       [-0.1, -0.1,  0.9, -0.1, -0.1, -0.1, -0.1, -0.1, -0.1, -0.1],\n",
       "       [-0.1, -0.1, -0.1,  0.9, -0.1, -0.1, -0.1, -0.1, -0.1, -0.1],\n",
       "       [-0.1, -0.1, -0.1, -0.1,  0.9, -0.1, -0.1, -0.1, -0.1, -0.1],\n",
       "       [-0.1, -0.1, -0.1, -0.1, -0.1,  0.9, -0.1, -0.1, -0.1, -0.1],\n",
       "       [-0.1, -0.1, -0.1, -0.1, -0.1, -0.1,  0.9, -0.1, -0.1, -0.1],\n",
       "       [-0.1, -0.1, -0.1, -0.1, -0.1, -0.1, -0.1,  0.9, -0.1, -0.1],\n",
       "       [-0.1, -0.1, -0.1, -0.1, -0.1, -0.1, -0.1, -0.1,  0.9, -0.1],\n",
       "       [-0.1, -0.1, -0.1, -0.1, -0.1, -0.1, -0.1, -0.1, -0.1,  0.9]])"
      ]
     },
     "execution_count": 67,
     "metadata": {},
     "output_type": "execute_result"
    }
   ],
   "source": [
    "def En (n):\n",
    "    return np.eye(n)-(1/n)*np.ones((n,1))@np.ones((1,n))\n",
    "\n",
    "En(10)"
   ]
  },
  {
   "cell_type": "markdown",
   "id": "badbb76e",
   "metadata": {},
   "source": [
    "##### Probamos que para cualquier vector Z, el promedio de las componentes de En@Z es 0"
   ]
  },
  {
   "cell_type": "markdown",
   "id": "2360d44c",
   "metadata": {},
   "source": []
  },
  {
   "cell_type": "markdown",
   "id": "da298d1d",
   "metadata": {},
   "source": [
    "##### Analizamos En@A para ver qué efecto tiene En sobre A"
   ]
  },
  {
   "cell_type": "code",
   "execution_count": 96,
   "id": "da3968a7",
   "metadata": {},
   "outputs": [
    {
     "data": {
      "text/plain": [
       "array([[-0.78593463,  0.88078151, -0.67439833,  0.22698308, -0.83043025],\n",
       "       [-1.61325565, -0.79245903, -0.02318977, -1.34746789,  0.41703876],\n",
       "       [-1.64820148, -0.30898284,  1.13439141, -0.35785467,  0.32691415],\n",
       "       [ 0.83993504, -0.50268636, -1.57395901, -0.90206587,  1.5300506 ],\n",
       "       [-0.06365205,  0.18599813,  1.64791571, -1.2434229 ,  1.34056465]])"
      ]
     },
     "execution_count": 96,
     "metadata": {},
     "output_type": "execute_result"
    }
   ],
   "source": [
    "#A = np.random.rand(5, 5)\n",
    "A = np.random.randn(5, 5)\n",
    "A"
   ]
  },
  {
   "cell_type": "code",
   "execution_count": 97,
   "id": "1b3237b7",
   "metadata": {},
   "outputs": [
    {
     "data": {
      "text/plain": [
       "array([[-0.13171287,  0.98825123, -0.77655033,  0.95174873, -1.38725783],\n",
       "       [-0.9590339 , -0.68498931, -0.12534178, -0.62270224, -0.13978882],\n",
       "       [-0.99397973, -0.20151312,  1.03223941,  0.36691098, -0.22991343],\n",
       "       [ 1.49415679, -0.39521664, -1.67611101, -0.17730022,  0.97322302],\n",
       "       [ 0.5905697 ,  0.29346784,  1.54576371, -0.51865725,  0.78373706]])"
      ]
     },
     "execution_count": 97,
     "metadata": {},
     "output_type": "execute_result"
    }
   ],
   "source": [
    "B=En(5)@A\n",
    "B"
   ]
  },
  {
   "cell_type": "code",
   "execution_count": 98,
   "id": "800e1f01",
   "metadata": {},
   "outputs": [
    {
     "data": {
      "text/plain": [
       "(np.float64(4.983145943960412), np.float64(4.290113998450015))"
      ]
     },
     "execution_count": 98,
     "metadata": {},
     "output_type": "execute_result"
    }
   ],
   "source": [
    "norm(A), norm(B)"
   ]
  },
  {
   "cell_type": "code",
   "execution_count": 95,
   "id": "95f3267e",
   "metadata": {},
   "outputs": [
    {
     "data": {
      "text/plain": [
       "((np.float64(-1.1938), np.float64(0.6392)),\n",
       " (np.float64(-1.7246), np.float64(0.0146)))"
      ]
     },
     "execution_count": 95,
     "metadata": {},
     "output_type": "execute_result"
    }
   ],
   "source": [
    "metodoMonteCarlo(A,10), metodoMonteCarlo(B,10), "
   ]
  },
  {
   "cell_type": "markdown",
   "id": "30b46629",
   "metadata": {},
   "source": [
    "**(b)**"
   ]
  },
  {
   "cell_type": "code",
   "execution_count": null,
   "id": "Cjs1heA5aAvi",
   "metadata": {
    "id": "Cjs1heA5aAvi"
   },
   "outputs": [],
   "source": []
  },
  {
   "cell_type": "markdown",
   "id": "cuHnVNDdaAUM",
   "metadata": {
    "id": "cuHnVNDdaAUM"
   },
   "source": []
  },
  {
   "cell_type": "code",
   "execution_count": null,
   "id": "2VDFZvwgaNIv",
   "metadata": {
    "id": "2VDFZvwgaNIv"
   },
   "outputs": [],
   "source": []
  },
  {
   "cell_type": "markdown",
   "id": "oPCnVcJiaO37",
   "metadata": {
    "id": "oPCnVcJiaO37"
   },
   "source": [
    "### Consigna 7"
   ]
  },
  {
   "cell_type": "code",
   "execution_count": null,
   "id": "RpN1DUV-aO39",
   "metadata": {
    "id": "RpN1DUV-aO39"
   },
   "outputs": [],
   "source": []
  },
  {
   "cell_type": "markdown",
   "id": "NOlwPHa5aO3-",
   "metadata": {
    "id": "NOlwPHa5aO3-"
   },
   "source": []
  },
  {
   "cell_type": "markdown",
   "id": "ig4bgZvTaPXs",
   "metadata": {
    "id": "ig4bgZvTaPXs"
   },
   "source": [
    "### Consigna 8"
   ]
  },
  {
   "cell_type": "code",
   "execution_count": null,
   "id": "z2UrOmceaPXt",
   "metadata": {
    "id": "z2UrOmceaPXt"
   },
   "outputs": [],
   "source": []
  },
  {
   "cell_type": "markdown",
   "id": "mNKeSSM-aPXu",
   "metadata": {
    "id": "mNKeSSM-aPXu"
   },
   "source": []
  },
  {
   "cell_type": "markdown",
   "id": "9hKM3J8Pad8H",
   "metadata": {
    "id": "9hKM3J8Pad8H"
   },
   "source": [
    "# Matriz H"
   ]
  },
  {
   "cell_type": "markdown",
   "id": "SordfEtIaPqb",
   "metadata": {
    "id": "SordfEtIaPqb"
   },
   "source": [
    "### Consigna 9"
   ]
  },
  {
   "cell_type": "code",
   "execution_count": null,
   "id": "DbVvssgwaPqc",
   "metadata": {
    "id": "DbVvssgwaPqc"
   },
   "outputs": [],
   "source": []
  },
  {
   "cell_type": "markdown",
   "id": "XXgpgR6waPqe",
   "metadata": {
    "id": "XXgpgR6waPqe"
   },
   "source": []
  },
  {
   "cell_type": "markdown",
   "id": "60XTyUEuaP6r",
   "metadata": {
    "id": "60XTyUEuaP6r"
   },
   "source": [
    "### Consigna 10"
   ]
  },
  {
   "cell_type": "code",
   "execution_count": null,
   "id": "OvZboNcuaP6t",
   "metadata": {
    "id": "OvZboNcuaP6t"
   },
   "outputs": [],
   "source": []
  },
  {
   "cell_type": "markdown",
   "id": "9vMsl5DraP6u",
   "metadata": {
    "id": "9vMsl5DraP6u"
   },
   "source": []
  },
  {
   "cell_type": "markdown",
   "id": "tGQp7yGsaQJL",
   "metadata": {
    "id": "tGQp7yGsaQJL"
   },
   "source": [
    "### Consigna 11"
   ]
  },
  {
   "cell_type": "code",
   "execution_count": null,
   "id": "v8mPIpB4aQJM",
   "metadata": {
    "id": "v8mPIpB4aQJM"
   },
   "outputs": [],
   "source": []
  },
  {
   "cell_type": "markdown",
   "id": "V_ouLlKwaQJN",
   "metadata": {
    "id": "V_ouLlKwaQJN"
   },
   "source": []
  },
  {
   "cell_type": "code",
   "execution_count": null,
   "id": "e6U4Y-gcc1wp",
   "metadata": {
    "id": "e6U4Y-gcc1wp"
   },
   "outputs": [],
   "source": [
    "# Calculamos autovalores exactos para comparar\n",
    "autovalores1, autovectores1 = np.linalg.eig(A1)\n",
    "\n",
    "print(\"Autovalor 1 aproximado:\", autovalor1)\n",
    "print(\"Autovalores exactos de A1:\", autovalores1)\n",
    "# Guardamos en las variables promedio y desvio estandar\n",
    "lista_vectores1 = metodoPotencia(A1, v, k)[1]\n",
    "promedio1 = np.mean(lista_vectores1, axis = 0)\n",
    "desvio1 = np.std(lista_vectores1, axis = 0)"
   ]
  },
  {
   "cell_type": "code",
   "execution_count": null,
   "id": "cwQeRSzMc724",
   "metadata": {
    "id": "cwQeRSzMc724"
   },
   "outputs": [],
   "source": [
    "# Número de iteraciones\n",
    "k = 250\n",
    "v = np.array([1, 2, 3, 4, 5])\n",
    "#Para la matriz A2\n",
    "v_normalizado2 = metodoPotencia(A2, v, k)[0]\n",
    "# Obtenemos el autovalor correspondiente usando el autovector calculado\n",
    "autovalor2 = np.dot(A1 @ v_normalizado2, v_normalizado2) / np.dot(v_normalizado2, v_normalizado2)\n",
    "\n",
    "# Calculamos autovalores exactos para comparar\n",
    "autovalores2, autovectores2 = np.linalg.eig(A2)\n",
    "\n",
    "print(\"Autovalor 2 aproximado:\", autovalor2)\n",
    "print(\"Autovalores exactos de A2:\", autovalores2)\n",
    "# Guardamos en las variables promedio y desvio estandar\n",
    "lista_vectores2 = metodoPotencia(A2, v, k)[1]\n",
    "promedio2 = np.mean(lista_vectores2, axis = 0)\n",
    "desvio2 = np.std(lista_vectores2, axis = 0)"
   ]
  },
  {
   "cell_type": "markdown",
   "id": "p8Kkn8mQfHyc",
   "metadata": {
    "id": "p8Kkn8mQfHyc"
   },
   "source": []
  }
 ],
 "metadata": {
  "colab": {
   "collapsed_sections": [
    "fSsuUdO1fOuX",
    "_YXzoYX7S7Sp",
    "rMBhOaxwU1ld"
   ],
   "provenance": []
  },
  "kernelspec": {
   "display_name": "Python 3",
   "language": "python",
   "name": "python3"
  },
  "language_info": {
   "codemirror_mode": {
    "name": "ipython",
    "version": 3
   },
   "file_extension": ".py",
   "mimetype": "text/x-python",
   "name": "python",
   "nbconvert_exporter": "python",
   "pygments_lexer": "ipython3",
   "version": "3.13.0"
  }
 },
 "nbformat": 4,
 "nbformat_minor": 5
}
